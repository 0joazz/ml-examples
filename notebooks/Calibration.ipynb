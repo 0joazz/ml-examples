{
 "cells": [
  {
   "cell_type": "code",
   "execution_count": 1,
   "metadata": {},
   "outputs": [],
   "source": [
    "import matplotlib.pyplot as plt\n",
    "from pycalib.visualisations import plot_multiclass_reliability_diagram\n",
    "from pycalib.visualisations import plot_reliability_diagram_per_class\n",
    "from sklearn.preprocessing import OneHotEncoder\n",
    "import iteround\n",
    "import numpy as np\n",
    "import pandas as pd\n",
    "from scipy.stats import dirichlet"
   ]
  },
  {
   "cell_type": "code",
   "execution_count": 2,
   "metadata": {},
   "outputs": [],
   "source": [
    "def get_scores(alpha, size, random_state):\n",
    "    np.random.seed(random_state)\n",
    "    scores = dirichlet.rvs(alpha, size)\n",
    "    rounded_scores = np.array(\n",
    "        [iteround.saferound(s, 1) for s in scores]\n",
    "    )\n",
    "    return rounded_scores"
   ]
  },
  {
   "cell_type": "code",
   "execution_count": 3,
   "metadata": {},
   "outputs": [],
   "source": [
    "n_class = 10"
   ]
  },
  {
   "cell_type": "code",
   "execution_count": 4,
   "metadata": {},
   "outputs": [],
   "source": [
    "scores_1 = get_scores([5, 1, 1], n_class, 42)\n",
    "labels_1 = np.random.choice(3, size=(n_class, 1), p=[0.6, 0.2, 0.2])"
   ]
  },
  {
   "cell_type": "code",
   "execution_count": 5,
   "metadata": {},
   "outputs": [],
   "source": [
    "scores_2 = get_scores([1, 3, 2], n_class, 43)\n",
    "labels_2 = np.random.choice(3, size=(n_class, 1), p=[0.2, 0.5, 0.3])\n",
    "random_instance = np.random.choice(n_class)\n",
    "scores_2[random_instance] = np.around(np.ones(3) / 3, 2)\n",
    "labels_2[random_instance] = 0"
   ]
  },
  {
   "cell_type": "code",
   "execution_count": 6,
   "metadata": {},
   "outputs": [],
   "source": [
    "scores_3 = get_scores([1, 2, 3], n_class, 44)\n",
    "labels_3 = np.random.choice(3, size=(n_class, 1), p=[0.2, 0.3, 0.5])\n",
    "scores_3[random_instance] = np.around(np.ones(3) / 3, 2)\n",
    "labels_3[random_instance] = 0"
   ]
  },
  {
   "cell_type": "code",
   "execution_count": 7,
   "metadata": {},
   "outputs": [],
   "source": [
    "scores = np.vstack([scores_1, scores_2, scores_3])\n",
    "labels = np.vstack([labels_1, labels_2, labels_3]) + 1"
   ]
  },
  {
   "cell_type": "code",
   "execution_count": 8,
   "metadata": {},
   "outputs": [],
   "source": [
    "toy = pd.DataFrame(\n",
    "    np.hstack([scores, labels]),\n",
    "    columns=['$\\hat{p}_1$', '$\\hat{p}_2$', '$\\hat{p}_3$', '$y$']\n",
    ").astype(\n",
    "    {\n",
    "        '$\\hat{p}_1$': float,\n",
    "        '$\\hat{p}_2$': float,\n",
    "        '$\\hat{p}_3$': float,\n",
    "        '$y$': int\n",
    "    }\n",
    ")"
   ]
  },
  {
   "cell_type": "code",
   "execution_count": 9,
   "metadata": {},
   "outputs": [
    {
     "name": "stdout",
     "output_type": "stream",
     "text": [
      "\\begin{tabular}{lrrrr}\n",
      "\\toprule\n",
      "{} &  $\\hat{p}_1$ &  $\\hat{p}_2$ &  $\\hat{p}_3$ &  $y$ \\\\\n",
      "\\midrule\n",
      "1  &         1.00 &         0.00 &         0.00 &    1 \\\\\n",
      "2  &         0.90 &         0.10 &         0.00 &    1 \\\\\n",
      "3  &         0.80 &         0.10 &         0.10 &    1 \\\\\n",
      "4  &         0.70 &         0.10 &         0.20 &    1 \\\\\n",
      "5  &         0.60 &         0.30 &         0.10 &    1 \\\\\n",
      "6  &         0.40 &         0.10 &         0.50 &    1 \\\\\n",
      "7  &         0.33 &         0.33 &         0.33 &    1 \\\\\n",
      "8  &         0.33 &         0.33 &         0.33 &    1 \\\\\n",
      "9  &         0.20 &         0.40 &         0.40 &    1 \\\\\n",
      "10 &         0.10 &         0.50 &         0.40 &    1 \\\\\n",
      "\\bottomrule\n",
      "\\end{tabular}\n",
      " \\hfill\n",
      "\\begin{tabular}{lrrrr}\n",
      "\\toprule\n",
      "{} &  $\\hat{p}_1$ &  $\\hat{p}_2$ &  $\\hat{p}_3$ &  $y$ \\\\\n",
      "\\midrule\n",
      "11 &          0.8 &          0.2 &          0.0 &    2 \\\\\n",
      "12 &          0.7 &          0.0 &          0.3 &    2 \\\\\n",
      "13 &          0.5 &          0.2 &          0.3 &    2 \\\\\n",
      "14 &          0.4 &          0.4 &          0.2 &    2 \\\\\n",
      "15 &          0.4 &          0.2 &          0.4 &    2 \\\\\n",
      "16 &          0.3 &          0.4 &          0.3 &    2 \\\\\n",
      "17 &          0.2 &          0.3 &          0.5 &    2 \\\\\n",
      "18 &          0.1 &          0.6 &          0.3 &    2 \\\\\n",
      "19 &          0.1 &          0.3 &          0.6 &    2 \\\\\n",
      "20 &          0.0 &          0.2 &          0.8 &    2 \\\\\n",
      "\\bottomrule\n",
      "\\end{tabular}\n",
      " \\hfill\n",
      "\\begin{tabular}{lrrrr}\n",
      "\\toprule\n",
      "{} &  $\\hat{p}_1$ &  $\\hat{p}_2$ &  $\\hat{p}_3$ &  $y$ \\\\\n",
      "\\midrule\n",
      "21 &          0.8 &          0.2 &          0.0 &    3 \\\\\n",
      "22 &          0.8 &          0.1 &          0.1 &    3 \\\\\n",
      "23 &          0.8 &          0.0 &          0.2 &    3 \\\\\n",
      "24 &          0.6 &          0.0 &          0.4 &    3 \\\\\n",
      "25 &          0.3 &          0.0 &          0.7 &    3 \\\\\n",
      "26 &          0.2 &          0.6 &          0.2 &    3 \\\\\n",
      "27 &          0.2 &          0.4 &          0.4 &    3 \\\\\n",
      "28 &          0.0 &          0.4 &          0.6 &    3 \\\\\n",
      "29 &          0.0 &          0.3 &          0.7 &    3 \\\\\n",
      "30 &          0.0 &          0.3 &          0.7 &    3 \\\\\n",
      "\\bottomrule\n",
      "\\end{tabular}\n",
      " \\hfill\n"
     ]
    }
   ],
   "source": [
    "sorted_toy = toy.sort_values(\n",
    "    by=['$y$', '$\\hat{p}_1$', '$\\hat{p}_2$', '$\\hat{p}_3$'],\n",
    "    ascending=[True, False, False, False]\n",
    ")\n",
    "\n",
    "for i in range(3):\n",
    "    init = 10 * i\n",
    "    end = 10 * (i + 1)\n",
    "    print(\n",
    "        sorted_toy.iloc[init:end].set_index(\n",
    "            np.arange(init + 1, end + 1)\n",
    "        ).to_latex(escape=False), \n",
    "        '\\hfill'\n",
    "    )"
   ]
  },
  {
   "cell_type": "code",
   "execution_count": 10,
   "metadata": {},
   "outputs": [
    {
     "name": "stdout",
     "output_type": "stream",
     "text": [
      "\\begin{tabular}{lrrr}\n",
      "\\toprule\n",
      "{} &  $\\hat{p}_1$ &  $\\hat{p}_0$ &  $y$ \\\\\n",
      "\\midrule\n",
      "1  &         1.00 &         0.00 &    1 \\\\\n",
      "2  &         0.90 &         0.10 &    1 \\\\\n",
      "3  &         0.80 &         0.20 &    1 \\\\\n",
      "4  &         0.70 &         0.30 &    1 \\\\\n",
      "5  &         0.60 &         0.40 &    1 \\\\\n",
      "6  &         0.40 &         0.60 &    1 \\\\\n",
      "7  &         0.33 &         0.66 &    1 \\\\\n",
      "8  &         0.33 &         0.66 &    1 \\\\\n",
      "9  &         0.20 &         0.80 &    1 \\\\\n",
      "10 &         0.10 &         0.90 &    1 \\\\\n",
      "\\bottomrule\n",
      "\\end{tabular}\n",
      " \\hfill\n",
      "\\begin{tabular}{lrrr}\n",
      "\\toprule\n",
      "{} &  $\\hat{p}_1$ &  $\\hat{p}_0$ &  $y$ \\\\\n",
      "\\midrule\n",
      "11 &          0.8 &          0.2 &    0 \\\\\n",
      "12 &          0.7 &          0.3 &    0 \\\\\n",
      "13 &          0.5 &          0.5 &    0 \\\\\n",
      "14 &          0.4 &          0.6 &    0 \\\\\n",
      "15 &          0.4 &          0.6 &    0 \\\\\n",
      "16 &          0.3 &          0.7 &    0 \\\\\n",
      "17 &          0.2 &          0.8 &    0 \\\\\n",
      "18 &          0.1 &          0.9 &    0 \\\\\n",
      "19 &          0.1 &          0.9 &    0 \\\\\n",
      "20 &          0.0 &          1.0 &    0 \\\\\n",
      "\\bottomrule\n",
      "\\end{tabular}\n",
      " \\hfill\n",
      "\\begin{tabular}{lrrr}\n",
      "\\toprule\n",
      "{} &  $\\hat{p}_1$ &  $\\hat{p}_0$ &  $y$ \\\\\n",
      "\\midrule\n",
      "21 &          0.8 &          0.2 &    0 \\\\\n",
      "22 &          0.8 &          0.2 &    0 \\\\\n",
      "23 &          0.8 &          0.2 &    0 \\\\\n",
      "24 &          0.6 &          0.4 &    0 \\\\\n",
      "25 &          0.3 &          0.7 &    0 \\\\\n",
      "26 &          0.2 &          0.8 &    0 \\\\\n",
      "27 &          0.2 &          0.8 &    0 \\\\\n",
      "28 &          0.0 &          1.0 &    0 \\\\\n",
      "29 &          0.0 &          1.0 &    0 \\\\\n",
      "30 &          0.0 &          1.0 &    0 \\\\\n",
      "\\bottomrule\n",
      "\\end{tabular}\n",
      " \\hfill\n"
     ]
    }
   ],
   "source": [
    "for i in range(3):\n",
    "    init = 10 * i\n",
    "    end = 10 * (i + 1)\n",
    "    temp_toy = sorted_toy.iloc[init:end].set_index(np.arange(init + 1, end + 1))\n",
    "    temp_toy['$y$'] = (temp_toy['$y$'] == 1).astype(int)\n",
    "    temp_toy['$\\hat{p}_0$'] = temp_toy['$\\hat{p}_2$'] + temp_toy['$\\hat{p}_3$']\n",
    "    print(\n",
    "        temp_toy.to_latex(\n",
    "            escape=False,\n",
    "            columns=['$\\hat{p}_1$', '$\\hat{p}_0$', '$y$']\n",
    "        ), \n",
    "        '\\hfill'\n",
    "    )"
   ]
  },
  {
   "cell_type": "code",
   "execution_count": 11,
   "metadata": {},
   "outputs": [],
   "source": [
    "def get_bins(df, pos_label, n_bins, bin_edges=None):\n",
    "    positive_scores = df[f'$\\hat{{p}}_{pos_label}$'].values\n",
    "    positive_labels = (df['$y$'] == pos_label).astype(int).values\n",
    "\n",
    "#     if bin_edges is None:\n",
    "#         (counts, bin_edges) = np.histogram(\n",
    "#             positive_scores, \n",
    "#             bins=n_bins,\n",
    "# #             right=True\n",
    "#         )\n",
    "\n",
    "#     bin_idx = np.clip(\n",
    "#         np.digitize(positive_scores, bin_edges), \n",
    "#         0, n_bins\n",
    "#     )\n",
    "    \n",
    "    bins_scores, bins_labels = [], []\n",
    "\n",
    "#     for b in range(n_bins):\n",
    "#         bins_scores.append(sorted(positive_scores[bin_idx == b]))\n",
    "#         bins_labels.append(sorted(positive_labels[bin_idx == b]))\n",
    "    \n",
    "    \n",
    "    bin_size = 1.0/n_bins\n",
    "    centers = np.linspace(bin_size/2.0, 1.0 - bin_size/2.0, n_bins)\n",
    "    for i, center in enumerate(centers):\n",
    "        if i == 0:\n",
    "            # First bin include lower bound\n",
    "            bin_indices = np.where(\n",
    "                np.logical_and(\n",
    "                    positive_scores >= center - bin_size/2, positive_scores <= center + bin_size/2\n",
    "                )\n",
    "            )\n",
    "            bins_scores.append(sorted(positive_scores[bin_indices]))\n",
    "            bins_labels.append(sorted(positive_labels[bin_indices]))\n",
    "        else:\n",
    "            bin_indices = np.where(\n",
    "                np.logical_and(\n",
    "                    positive_scores > center - bin_size/2, positive_scores <= center + bin_size/2\n",
    "                )\n",
    "            )\n",
    "            bins_scores.append(sorted(positive_scores[bin_indices]))\n",
    "            bins_labels.append(sorted(positive_labels[bin_indices]))\n",
    "    \n",
    "    bins_df = pd.DataFrame(\n",
    "        {\n",
    "            '$B_i$': [f'$B_{i + 1}$' for i in range(n_bins)],\n",
    "            '$|B_{i}|$': [\n",
    "                len(bs) for bs in bins_scores\n",
    "            ],\n",
    "            'scores': bins_scores,\n",
    "            '$\\Bar{p}(B_{i})$': [\n",
    "                '{}/{}'.format(np.around(np.sum(bs), 1), len(bs)) for bs in bins_scores\n",
    "            ],\n",
    "            '$\\Bar{p}(B_{i}2)$': [\n",
    "                np.around(np.mean(bs), 2) for bs in bins_scores\n",
    "            ],\n",
    "            'labels': bins_labels,\n",
    "            '$\\Bar{y}(B_{i})$': [\n",
    "                '{}/{}'.format(np.around(np.sum(bl), 1), len(bl)) for bl in bins_labels\n",
    "            ],\n",
    "            '$\\Bar{y}(B_{i}2)$': [\n",
    "                np.around(np.mean(bl), 2) for bl in bins_labels\n",
    "            ]\n",
    "        }\n",
    "    )\n",
    "        \n",
    "    print(\n",
    "        bins_df.drop(['$\\Bar{p}(B_{i}2)$', '$\\Bar{y}(B_{i}2)$'], axis=1).to_latex(\n",
    "            escape=False, \n",
    "            index=False\n",
    "        ).replace('[', '').replace(']', '').replace('0.33', '1/3').replace('scores', '').replace('labels', '')\n",
    "    )\n",
    "    return bins_df"
   ]
  },
  {
   "cell_type": "code",
   "execution_count": 12,
   "metadata": {},
   "outputs": [
    {
     "name": "stdout",
     "output_type": "stream",
     "text": [
      "\\begin{tabular}{lrllll}\n",
      "\\toprule\n",
      " $B_i$ &  $|B_{i}|$ &                                              & $\\Bar{p}(B_{i})$ &                              & $\\Bar{y}(B_{i})$ \\\\\n",
      "\\midrule\n",
      " $B_1$ &         11 &  0.0, 0.0, 0.0, 0.0, 0.1, 0.1, 0.1, 0.2, 0.2, ... &           1.1/11 &  0, 0, 0, 0, 0, 0, 0, 0, 0, 1, 1 &             2/11 \\\\\n",
      " $B_2$ &          7 &              0.3, 0.3, 1/3, 1/3, 0.4, 0.4, 0.4 &            2.5/7 &              0, 0, 0, 0, 1, 1, 1 &              3/7 \\\\\n",
      " $B_3$ &          3 &                                    0.5, 0.6, 0.6 &            1.7/3 &                          0, 0, 1 &              1/3 \\\\\n",
      " $B_4$ &          7 &                0.7, 0.7, 0.8, 0.8, 0.8, 0.8, 0.8 &            5.4/7 &              0, 0, 0, 0, 0, 1, 1 &              2/7 \\\\\n",
      " $B_5$ &          2 &                                         0.9, 1.0 &            1.9/2 &                             1, 1 &              2/2 \\\\\n",
      "\\bottomrule\n",
      "\\end{tabular}\n",
      "\n"
     ]
    }
   ],
   "source": [
    "n_bins = 5\n",
    "bins_positive = get_bins(sorted_toy, 1, n_bins)"
   ]
  },
  {
   "cell_type": "code",
   "execution_count": 13,
   "metadata": {},
   "outputs": [
    {
     "name": "stdout",
     "output_type": "stream",
     "text": [
      "\\begin{tabular}{lrrr}\n",
      "\\toprule\n",
      " $B_i$ &  $\\Bar{p}(B_{i})$ &  $\\Bar{y}(B_{i})$ &  $|B_{i}|$ \\\\\n",
      "\\midrule\n",
      " $B_1$ &               0.10 &               0.18 &         11 \\\\\n",
      " $B_2$ &               0.35 &               0.43 &          7 \\\\\n",
      " $B_3$ &               0.57 &               0.33 &          3 \\\\\n",
      " $B_4$ &               0.77 &               0.29 &          7 \\\\\n",
      " $B_5$ &               0.95 &               1.00 &          2 \\\\\n",
      "\\bottomrule\n",
      "\\end{tabular}\n",
      "\n"
     ]
    }
   ],
   "source": [
    "print(\n",
    "    bins_positive.to_latex(\n",
    "        columns=['$B_i$', '$\\Bar{p}(B_{i}2)$', '$\\Bar{y}(B_{i}2)$', '$|B_{i}|$'],\n",
    "        escape=False, \n",
    "        index=False\n",
    "    ).replace('{i}2', '{i}')\n",
    ")"
   ]
  },
  {
   "cell_type": "code",
   "execution_count": 14,
   "metadata": {},
   "outputs": [],
   "source": [
    "def calculate_binary_ece(bins):\n",
    "    abs_diff = (bins['$\\Bar{y}(B_{i}2)$'] - bins['$\\Bar{p}(B_{i}2)$']).abs()\n",
    "    mul = abs_diff * bins['$|B_{i}|$']\n",
    "    numerator = ' + '.join(\n",
    "        [\n",
    "            '{} \\cdot {}'.format(b, np.around(ad, 2)) for (b, ad) in zip(\n",
    "                bins['$|B_{i}|$'], abs_diff\n",
    "            )\n",
    "        ]\n",
    "    )\n",
    "    \n",
    "    return np.around(mul.sum() / bins['$|B_{i}|$'].sum(), 4), numerator"
   ]
  },
  {
   "cell_type": "code",
   "execution_count": 15,
   "metadata": {},
   "outputs": [
    {
     "name": "stdout",
     "output_type": "stream",
     "text": [
      "(0.1873, '11 \\\\cdot 0.08 + 7 \\\\cdot 0.08 + 3 \\\\cdot 0.24 + 7 \\\\cdot 0.48 + 2 \\\\cdot 0.05')\n"
     ]
    }
   ],
   "source": [
    "pos_ece = calculate_binary_ece(bins_positive)\n",
    "print(pos_ece)"
   ]
  },
  {
   "cell_type": "code",
   "execution_count": 16,
   "metadata": {},
   "outputs": [],
   "source": [
    "def get_confidence_df(df):\n",
    "    conf_values = df.drop('$y$', axis=1).set_index(\n",
    "        np.arange(1, 31)\n",
    "    ).max(axis=1)\n",
    "    \n",
    "    conf_columns = df.drop('$y$', axis=1).set_index(\n",
    "        np.arange(1, 31)\n",
    "    ).idxmax(axis=1).values\n",
    "    \n",
    "    predictions = np.array([int(col[-2]) for col in conf_columns])\n",
    "    correct = (df['$y$'].values == predictions).astype(int)\n",
    "    \n",
    "    return pd.DataFrame(\n",
    "        {\n",
    "            '$\\hat{p}_1$': conf_values,\n",
    "            '$y$': correct\n",
    "        }\n",
    "    )"
   ]
  },
  {
   "cell_type": "code",
   "execution_count": 17,
   "metadata": {},
   "outputs": [],
   "source": [
    "conf_df = get_confidence_df(sorted_toy)"
   ]
  },
  {
   "cell_type": "code",
   "execution_count": 18,
   "metadata": {},
   "outputs": [
    {
     "name": "stdout",
     "output_type": "stream",
     "text": [
      "\\begin{tabular}{rr}\n",
      "\\toprule\n",
      "confidence & correct \\\\\n",
      "\\midrule\n",
      "      1.00 &       1 \\\\\n",
      "      0.90 &       1 \\\\\n",
      "      0.80 &       1 \\\\\n",
      "      0.70 &       1 \\\\\n",
      "      0.60 &       1 \\\\\n",
      "      0.50 &       0 \\\\\n",
      "      0.33 &       1 \\\\\n",
      "      0.33 &       1 \\\\\n",
      "      0.40 &       0 \\\\\n",
      "      0.50 &       0 \\\\\n",
      "\\bottomrule\n",
      "\\end{tabular}\n",
      " \\hfill\n",
      "\\begin{tabular}{rr}\n",
      "\\toprule\n",
      "confidence & correct \\\\\n",
      "\\midrule\n",
      "       0.8 &       0 \\\\\n",
      "       0.7 &       0 \\\\\n",
      "       0.5 &       0 \\\\\n",
      "       0.4 &       0 \\\\\n",
      "       0.4 &       0 \\\\\n",
      "       0.4 &       1 \\\\\n",
      "       0.5 &       0 \\\\\n",
      "       0.6 &       1 \\\\\n",
      "       0.6 &       0 \\\\\n",
      "       0.8 &       0 \\\\\n",
      "\\bottomrule\n",
      "\\end{tabular}\n",
      " \\hfill\n",
      "\\begin{tabular}{rr}\n",
      "\\toprule\n",
      "confidence & correct \\\\\n",
      "\\midrule\n",
      "       0.8 &       0 \\\\\n",
      "       0.8 &       0 \\\\\n",
      "       0.8 &       0 \\\\\n",
      "       0.6 &       0 \\\\\n",
      "       0.7 &       1 \\\\\n",
      "       0.6 &       0 \\\\\n",
      "       0.4 &       0 \\\\\n",
      "       0.6 &       1 \\\\\n",
      "       0.7 &       1 \\\\\n",
      "       0.7 &       1 \\\\\n",
      "\\bottomrule\n",
      "\\end{tabular}\n",
      " \\hfill\n"
     ]
    }
   ],
   "source": [
    "for i in range(3):\n",
    "    init = 10 * i\n",
    "    end = 10 * (i + 1)\n",
    "    print(\n",
    "        conf_df.iloc[init:end].set_index(\n",
    "            np.arange(init + 1, end + 1)\n",
    "        ).to_latex(header=['confidence', 'correct'], index=False, escape=False), \n",
    "        '\\hfill'\n",
    "    )"
   ]
  },
  {
   "cell_type": "code",
   "execution_count": 19,
   "metadata": {},
   "outputs": [
    {
     "name": "stdout",
     "output_type": "stream",
     "text": [
      "\\begin{tabular}{lrllll}\n",
      "\\toprule\n",
      " $B_i$ &  $|B_{i}|$ &                                              & $\\Bar{p}(B_{i})$ &                              & $\\Bar{y}(B_{i})$ \\\\\n",
      "\\midrule\n",
      " $B_1$ &          0 &                                                  &            0.0/0 &                                  &            0.0/0 \\\\\n",
      " $B_2$ &          7 &              1/3, 1/3, 0.4, 0.4, 0.4, 0.4, 0.4 &            2.7/7 &              0, 0, 0, 0, 1, 1, 1 &              3/7 \\\\\n",
      " $B_3$ &         10 &  0.5, 0.5, 0.5, 0.5, 0.6, 0.6, 0.6, 0.6, 0.6, ... &           5.6/10 &     0, 0, 0, 0, 0, 0, 0, 1, 1, 1 &             3/10 \\\\\n",
      " $B_4$ &         11 &  0.7, 0.7, 0.7, 0.7, 0.7, 0.8, 0.8, 0.8, 0.8, ... &           8.3/11 &  0, 0, 0, 0, 0, 0, 1, 1, 1, 1, 1 &             5/11 \\\\\n",
      " $B_5$ &          2 &                                         0.9, 1.0 &            1.9/2 &                             1, 1 &              2/2 \\\\\n",
      "\\bottomrule\n",
      "\\end{tabular}\n",
      "\n"
     ]
    },
    {
     "name": "stderr",
     "output_type": "stream",
     "text": [
      "/home/tmfilho/anaconda2/envs/py37/lib/python3.7/site-packages/numpy/core/fromnumeric.py:3118: RuntimeWarning: Mean of empty slice.\n",
      "  out=out, **kwargs)\n",
      "/home/tmfilho/anaconda2/envs/py37/lib/python3.7/site-packages/numpy/core/_methods.py:85: RuntimeWarning: invalid value encountered in double_scalars\n",
      "  ret = ret.dtype.type(ret / rcount)\n"
     ]
    }
   ],
   "source": [
    "bins_conf = get_bins(\n",
    "    conf_df, 1, n_bins, bin_edges=np.linspace(0, 1, 6)\n",
    ")"
   ]
  },
  {
   "cell_type": "code",
   "execution_count": 20,
   "metadata": {},
   "outputs": [
    {
     "name": "stdout",
     "output_type": "stream",
     "text": [
      "\\begin{tabular}{lrrr}\n",
      "\\toprule\n",
      " $B_i$ &  $\\Bar{p}(B_{i})$ &  $\\Bar{y}(B_{i})$ &  $|B_{i}|$ \\\\\n",
      "\\midrule\n",
      " $B_1$ &                 &                 &          0 \\\\\n",
      " $B_2$ &               0.38 &               0.43 &          7 \\\\\n",
      " $B_3$ &               0.56 &               0.30 &         10 \\\\\n",
      " $B_4$ &               0.75 &               0.45 &         11 \\\\\n",
      " $B_5$ &               0.95 &               1.00 &          2 \\\\\n",
      "\\bottomrule\n",
      "\\end{tabular}\n",
      "\n"
     ]
    }
   ],
   "source": [
    "print(\n",
    "    bins_conf.to_latex(\n",
    "        columns=['$B_i$', '$\\Bar{p}(B_{i}2)$', '$\\Bar{y}(B_{i}2)$', '$|B_{i}|$'],\n",
    "        escape=False, \n",
    "        index=False\n",
    "    ).replace('{i}2', '{i}').replace('NaN', '')\n",
    ")"
   ]
  },
  {
   "cell_type": "code",
   "execution_count": 21,
   "metadata": {},
   "outputs": [
    {
     "name": "stdout",
     "output_type": "stream",
     "text": [
      "(0.2117, '0 \\\\cdot nan + 7 \\\\cdot 0.05 + 10 \\\\cdot 0.26 + 11 \\\\cdot 0.3 + 2 \\\\cdot 0.05')\n"
     ]
    }
   ],
   "source": [
    "print(calculate_binary_ece(bins_conf))"
   ]
  },
  {
   "cell_type": "code",
   "execution_count": 22,
   "metadata": {},
   "outputs": [
    {
     "name": "stdout",
     "output_type": "stream",
     "text": [
      "\\begin{tabular}{lrllll}\n",
      "\\toprule\n",
      " $B_i$ &  $|B_{i}|$ &                                              & $\\Bar{p}(B_{i})$ &                                          & $\\Bar{y}(B_{i})$ \\\\\n",
      "\\midrule\n",
      " $B_1$ &         15 &  0.0, 0.0, 0.0, 0.0, 0.0, 0.1, 0.1, 0.1, 0.1, ... &           1.5/15 &  0, 0, 0, 0, 0, 0, 0, 0, 0, 0, 1, 1, 1, 1, 1 &             5/15 \\\\\n",
      " $B_2$ &         12 &  0.3, 0.3, 0.3, 0.3, 0.3, 1/3, 1/3, 0.4, 0.4... &           4.2/12 &           0, 0, 0, 0, 0, 0, 0, 0, 1, 1, 1, 1 &             4/12 \\\\\n",
      " $B_3$ &          3 &                                    0.5, 0.6, 0.6 &            1.7/3 &                                      0, 0, 1 &              1/3 \\\\\n",
      " $B_4$ &          0 &                                                  &            0.0/0 &                                              &            0.0/0 \\\\\n",
      " $B_5$ &          0 &                                                  &            0.0/0 &                                              &            0.0/0 \\\\\n",
      "\\bottomrule\n",
      "\\end{tabular}\n",
      "\n"
     ]
    }
   ],
   "source": [
    "bins_class_2 = get_bins(sorted_toy, 2, n_bins)"
   ]
  },
  {
   "cell_type": "code",
   "execution_count": 23,
   "metadata": {},
   "outputs": [
    {
     "name": "stdout",
     "output_type": "stream",
     "text": [
      "\\begin{tabular}{lrllll}\n",
      "\\toprule\n",
      " $B_i$ &  $|B_{i}|$ &                                              & $\\Bar{p}(B_{i})$ &                              & $\\Bar{y}(B_{i})$ \\\\\n",
      "\\midrule\n",
      " $B_1$ &         11 &  0.0, 0.0, 0.0, 0.0, 0.1, 0.1, 0.1, 0.2, 0.2, ... &           1.1/11 &  0, 0, 0, 0, 0, 0, 0, 1, 1, 1, 1 &             4/11 \\\\\n",
      " $B_2$ &         11 &  0.3, 0.3, 0.3, 0.3, 1/3, 1/3, 0.4, 0.4, 0.4... &           3.9/11 &  0, 0, 0, 0, 0, 0, 0, 0, 0, 1, 1 &             2/11 \\\\\n",
      " $B_3$ &          4 &                               0.5, 0.5, 0.6, 0.6 &            2.2/4 &                       0, 0, 0, 1 &              1/4 \\\\\n",
      " $B_4$ &          4 &                               0.7, 0.7, 0.7, 0.8 &            2.9/4 &                       0, 1, 1, 1 &              3/4 \\\\\n",
      " $B_5$ &          0 &                                                  &            0.0/0 &                                  &            0.0/0 \\\\\n",
      "\\bottomrule\n",
      "\\end{tabular}\n",
      "\n"
     ]
    }
   ],
   "source": [
    "bins_class_3 = get_bins(sorted_toy, 3, n_bins)"
   ]
  },
  {
   "cell_type": "code",
   "execution_count": 24,
   "metadata": {},
   "outputs": [
    {
     "name": "stdout",
     "output_type": "stream",
     "text": [
      "(0.147, '15 \\\\cdot 0.23 + 12 \\\\cdot 0.02 + 3 \\\\cdot 0.24 + 0 \\\\cdot nan + 0 \\\\cdot nan')\n"
     ]
    }
   ],
   "source": [
    "cls2_ece = calculate_binary_ece(bins_class_2)\n",
    "print(cls2_ece)"
   ]
  },
  {
   "cell_type": "code",
   "execution_count": 25,
   "metadata": {},
   "outputs": [
    {
     "name": "stdout",
     "output_type": "stream",
     "text": [
      "(0.2017, '11 \\\\cdot 0.26 + 11 \\\\cdot 0.17 + 4 \\\\cdot 0.3 + 4 \\\\cdot 0.03 + 0 \\\\cdot nan')\n"
     ]
    }
   ],
   "source": [
    "cls3_ece = calculate_binary_ece(bins_class_3)\n",
    "print(cls3_ece)"
   ]
  },
  {
   "cell_type": "code",
   "execution_count": 26,
   "metadata": {},
   "outputs": [
    {
     "data": {
      "text/plain": [
       "0.17866666666666667"
      ]
     },
     "execution_count": 26,
     "metadata": {},
     "output_type": "execute_result"
    }
   ],
   "source": [
    "np.mean([pos_ece[0], cls2_ece[0], cls3_ece[0]])"
   ]
  },
  {
   "cell_type": "code",
   "execution_count": 27,
   "metadata": {},
   "outputs": [
    {
     "name": "stdout",
     "output_type": "stream",
     "text": [
      "\\begin{tabular}{lrrr}\n",
      "\\toprule\n",
      " $B_{i,2}$ &  $\\Bar{p}(B_{i,2})$ &  $\\Bar{y}(B_{i,2})$ &  $|B_{i}|$ \\\\\n",
      "\\midrule\n",
      " $B_1$ &               0.10 &               0.33 &         15 \\\\\n",
      " $B_2$ &               0.35 &               0.33 &         12 \\\\\n",
      " $B_3$ &               0.57 &               0.33 &          3 \\\\\n",
      " $B_4$ &                NaN &                NaN &          0 \\\\\n",
      " $B_5$ &                NaN &                NaN &          0 \\\\\n",
      "\\bottomrule\n",
      "\\end{tabular}\n",
      "\n"
     ]
    }
   ],
   "source": [
    "print(\n",
    "    bins_class_2.to_latex(\n",
    "        columns=['$B_i$', '$\\Bar{p}(B_{i}2)$', '$\\Bar{y}(B_{i}2)$', '$|B_{i}|$'],\n",
    "        escape=False, \n",
    "        index=False\n",
    "    ).replace('_i', '_{i,2}').replace('{i}2', '{i,2}')\n",
    ")"
   ]
  },
  {
   "cell_type": "code",
   "execution_count": 28,
   "metadata": {},
   "outputs": [
    {
     "name": "stdout",
     "output_type": "stream",
     "text": [
      "\\begin{tabular}{lrrr}\n",
      "\\toprule\n",
      " $B_{i,3}$ &  $\\Bar{p}(B_{i,3})$ &  $\\Bar{y}(B_{i,3})$ &  $|B_{i}|$ \\\\\n",
      "\\midrule\n",
      " $B_1$ &               0.10 &               0.36 &         11 \\\\\n",
      " $B_2$ &               0.35 &               0.18 &         11 \\\\\n",
      " $B_3$ &               0.55 &               0.25 &          4 \\\\\n",
      " $B_4$ &               0.72 &               0.75 &          4 \\\\\n",
      " $B_5$ &                NaN &                NaN &          0 \\\\\n",
      "\\bottomrule\n",
      "\\end{tabular}\n",
      "\n"
     ]
    }
   ],
   "source": [
    "print(\n",
    "    bins_class_3.to_latex(\n",
    "        columns=['$B_i$', '$\\Bar{p}(B_{i}2)$', '$\\Bar{y}(B_{i}2)$', '$|B_{i}|$'],\n",
    "        escape=False, \n",
    "        index=False\n",
    "    ).replace('_i', '_{i,3}').replace('{i}2', '{i,3}')\n",
    ")"
   ]
  },
  {
   "cell_type": "code",
   "execution_count": 29,
   "metadata": {},
   "outputs": [
    {
     "data": {
      "text/plain": [
       "array([[1., 0., 0.],\n",
       "       [0., 1., 0.],\n",
       "       [1., 0., 0.],\n",
       "       [1., 0., 0.],\n",
       "       [1., 0., 0.],\n",
       "       [1., 0., 0.],\n",
       "       [0., 0., 1.],\n",
       "       [0., 1., 0.],\n",
       "       [0., 0., 1.],\n",
       "       [0., 0., 1.],\n",
       "       [0., 0., 1.],\n",
       "       [0., 1., 0.],\n",
       "       [0., 1., 0.],\n",
       "       [0., 0., 1.],\n",
       "       [1., 0., 0.],\n",
       "       [0., 1., 0.],\n",
       "       [0., 1., 0.],\n",
       "       [1., 0., 0.],\n",
       "       [0., 0., 1.],\n",
       "       [0., 1., 0.],\n",
       "       [0., 1., 0.],\n",
       "       [0., 1., 0.],\n",
       "       [0., 0., 1.],\n",
       "       [1., 0., 0.],\n",
       "       [1., 0., 0.],\n",
       "       [0., 1., 0.],\n",
       "       [0., 0., 1.],\n",
       "       [0., 0., 1.],\n",
       "       [1., 0., 0.],\n",
       "       [0., 0., 1.]])"
      ]
     },
     "execution_count": 29,
     "metadata": {},
     "output_type": "execute_result"
    }
   ],
   "source": [
    "ohl = OneHotEncoder(sparse=False).fit_transform(labels)\n",
    "\n",
    "ohl"
   ]
  },
  {
   "cell_type": "code",
   "execution_count": 30,
   "metadata": {},
   "outputs": [
    {
     "data": {
      "image/png": "[encoded data removed]",
      "text/plain": [
       "<Figure size 432x288 with 1 Axes>"
      ]
     },
     "metadata": {
      "needs_background": "light"
     },
     "output_type": "display_data"
    }
   ],
   "source": [
    "fig = plot_multiclass_reliability_diagram(ohl[:,0], scores[:,0], n_bins=5)\n",
    "plt.savefig('binary-reliability.png')"
   ]
  },
  {
   "cell_type": "code",
   "execution_count": 31,
   "metadata": {},
   "outputs": [
    {
     "name": "stderr",
     "output_type": "stream",
     "text": [
      "/home/tmfilho/anaconda2/envs/py37/lib/python3.7/site-packages/numpy/core/fromnumeric.py:3118: RuntimeWarning: Mean of empty slice.\n",
      "  out=out, **kwargs)\n",
      "/home/tmfilho/anaconda2/envs/py37/lib/python3.7/site-packages/numpy/core/_methods.py:85: RuntimeWarning: invalid value encountered in double_scalars\n",
      "  ret = ret.dtype.type(ret / rcount)\n",
      "/home/tmfilho/anaconda2/envs/py37/lib/python3.7/site-packages/pycalib/visualisations.py:132: RuntimeWarning: Mean of empty slice\n",
      "  pred_mean[i] = np.nanmean(p_pred[bin_indices])\n"
     ]
    },
    {
     "data": {
      "image/png": "[encoded data removed]",
      "text/plain": [
       "<Figure size 432x288 with 1 Axes>"
      ]
     },
     "metadata": {
      "needs_background": "light"
     },
     "output_type": "display_data"
    }
   ],
   "source": [
    "fig2 = plot_multiclass_reliability_diagram(\n",
    "    np.array([1]*5 + [0]*5),\n",
    "    np.array([0.5]*10),      \n",
    "    n_bins=5\n",
    ")\n",
    "plt.savefig('perfect-reliability.png')"
   ]
  },
  {
   "cell_type": "code",
   "execution_count": 32,
   "metadata": {},
   "outputs": [
    {
     "name": "stderr",
     "output_type": "stream",
     "text": [
      "/home/tmfilho/anaconda2/envs/py37/lib/python3.7/site-packages/pycalib/visualisations.py:131: RuntimeWarning: Mean of empty slice\n",
      "  true_proportion[i] = np.nanmean(y_true[bin_indices])\n"
     ]
    },
    {
     "data": {
      "image/png": "[encoded data removed]",
      "text/plain": [
       "<Figure size 432x288 with 1 Axes>"
      ]
     },
     "metadata": {
      "needs_background": "light"
     },
     "output_type": "display_data"
    }
   ],
   "source": [
    "fig3 = plot_multiclass_reliability_diagram(conf_df.values[:,1], conf_df.values[:,0], n_bins=5)\n",
    "plt.savefig('confidence-reliability.png')"
   ]
  },
  {
   "cell_type": "code",
   "execution_count": 33,
   "metadata": {},
   "outputs": [
    {
     "data": {
      "image/png": "[encoded data removed]",
      "text/plain": [
       "<Figure size 1080x360 with 3 Axes>"
      ]
     },
     "metadata": {
      "needs_background": "light"
     },
     "output_type": "display_data"
    }
   ],
   "source": [
    "fig4 = plt.figure(figsize=(15,5))\n",
    "fi4 = plot_reliability_diagram_per_class(\n",
    "    ohl, \n",
    "    scores, \n",
    "    n_bins=5,\n",
    "    fig=fig4\n",
    ")\n",
    "plt.savefig('classwise-reliability.png')"
   ]
  },
  {
   "cell_type": "markdown",
   "metadata": {},
   "source": [
    "# Reliability diagrams with user-provided bins"
   ]
  },
  {
   "cell_type": "code",
   "execution_count": 51,
   "metadata": {},
   "outputs": [],
   "source": [
    "import matplotlib.pyplot as plt\n",
    "import numpy as np\n",
    "\n",
    "\n",
    "def plot_reliability_diagram_gaps_from_bins(bin_probs, bin_labels, title=None,\n",
    "                                         fig=None, ax=None, legend=True):\n",
    "    '''Plot binary reliability diagram gaps\n",
    "\n",
    "    Parameters\n",
    "    ==========\n",
    "    bin_probs : list\n",
    "        List of lists representing the probabilities in each bin\n",
    "    bin_labels : list\n",
    "        List of lists representing the actual labels in each bin\n",
    "    n_bins : integer\n",
    "        Number of bins to divide the scores\n",
    "    title : string\n",
    "        Title for the plot\n",
    "    fig : matplotlib.pyplot.figure\n",
    "        Plots the axis in the given figure\n",
    "    ax : matplotlib.pyplot.Axis\n",
    "        Axis where to draw the plot\n",
    "    legend : boolean\n",
    "        If True the function will draw a legend\n",
    "\n",
    "    Regurns\n",
    "    =======\n",
    "    fig : matplotlib.pyplot.figure\n",
    "        Figure with the reliability diagram\n",
    "    '''\n",
    "    if fig is None and ax is None:\n",
    "        fig = plt.figure()\n",
    "    if ax is None:\n",
    "        ax = fig.add_subplot(111)\n",
    "\n",
    "    if title is not None:\n",
    "        ax.set_title(title)\n",
    "    \n",
    "    n_bins = len(bin_probs)\n",
    "    \n",
    "#     bin_size = 1.0/n_bins\n",
    "    bin_size = np.zeros(n_bins)\n",
    "    centers = np.zeros(n_bins)\n",
    "    for i in range(n_bins):\n",
    "        if i == 0:\n",
    "            bin_size[i] = max(bin_probs[i]) + 0.05\n",
    "            centers[i] = (max(bin_probs[i]) + 0.05) / 2\n",
    "        else:\n",
    "            bin_size[i] = (max(bin_probs[i]) + 0.05) - (max(bin_probs[i - 1]) + 0.05)\n",
    "            centers[i] = (max(bin_probs[i]) + 0.05 + max(bin_probs[i - 1]) + 0.05) / 2\n",
    "#     centers = np.linspace(bin_size/2.0, 1.0 - bin_size/2.0, n_bins)\n",
    "    true_proportion = np.array([np.mean(l) for l in bin_labels])\n",
    "    pred_mean = np.array([np.mean(probs) for probs in bin_probs])\n",
    "\n",
    "    not_nan = np.isfinite(true_proportion - centers)\n",
    "    ax.bar(centers, true_proportion, width=bin_size, edgecolor=\"black\",\n",
    "           color=\"blue\", label='True class prop.')\n",
    "    ax.bar(pred_mean[not_nan], (true_proportion - pred_mean)[not_nan],\n",
    "           bottom=pred_mean[not_nan], width=bin_size/4.0, edgecolor=\"red\",\n",
    "           color=\"#ffc8c6\",\n",
    "           label='Gap pred. mean')\n",
    "    ax.scatter(pred_mean[not_nan], true_proportion[not_nan], color='red',\n",
    "               marker=\"+\", zorder=10)\n",
    "\n",
    "    if legend:\n",
    "        ax.legend()\n",
    "\n",
    "    ax.plot([0, 1], [0, 1], linestyle=\"--\")\n",
    "    ax.set_xlim([0, 1])\n",
    "    ax.set_xlabel('Predicted probability')\n",
    "    ax.set_ylim([0, 1])\n",
    "    ax.set_ylabel('Proportion of positives')\n",
    "    ax.grid(True)\n",
    "    ax.set_axisbelow(True)\n",
    "    fig.tight_layout()\n",
    "\n",
    "    return fig, ax\n",
    "\n"
   ]
  },
  {
   "cell_type": "code",
   "execution_count": 52,
   "metadata": {},
   "outputs": [
    {
     "data": {
      "text/plain": [
       "(<Figure size 432x288 with 1 Axes>,\n",
       " <matplotlib.axes._subplots.AxesSubplot at 0x7f215f0a1748>)"
      ]
     },
     "execution_count": 52,
     "metadata": {},
     "output_type": "execute_result"
    },
    {
     "data": {
      "image/png": "[encoded data removed]",
      "text/plain": [
       "<Figure size 432x288 with 1 Axes>"
      ]
     },
     "metadata": {
      "needs_background": "light"
     },
     "output_type": "display_data"
    }
   ],
   "source": [
    "bin_probs = [\n",
    "    [0, 0.1, 0.2, 0.3],\n",
    "    [0.4, 0.5, 0.6],\n",
    "    [0.7, 0.8, 0.9, 1]\n",
    "]\n",
    "\n",
    "bin_labels = [\n",
    "    [0, 0, 0, 1],\n",
    "    [0, 1, 1],\n",
    "    [0, 1, 1, 1]\n",
    "]\n",
    "\n",
    "plot_reliability_diagram_gaps_from_bins(bin_probs, bin_labels)"
   ]
  },
  {
   "cell_type": "code",
   "execution_count": 53,
   "metadata": {},
   "outputs": [
    {
     "data": {
      "text/plain": [
       "(<Figure size 432x288 with 1 Axes>,\n",
       " <matplotlib.axes._subplots.AxesSubplot at 0x7f215f00d6d8>)"
      ]
     },
     "execution_count": 53,
     "metadata": {},
     "output_type": "execute_result"
    },
    {
     "data": {
      "image/png": "[encoded data removed]",
      "text/plain": [
       "<Figure size 432x288 with 1 Axes>"
      ]
     },
     "metadata": {
      "needs_background": "light"
     },
     "output_type": "display_data"
    }
   ],
   "source": [
    "bin_probs = [\n",
    "    [0, 0.1, 0.2],\n",
    "    [0.3, 0.4],\n",
    "    [0.5, 0.6, 0.7],\n",
    "    [0.8, 0.9, 1]\n",
    "]\n",
    "\n",
    "bin_labels = [\n",
    "    [0, 0, 0],\n",
    "    [1, 0], \n",
    "    [1, 1, 0],\n",
    "    [1, 1, 1]\n",
    "]\n",
    "\n",
    "plot_reliability_diagram_gaps_from_bins(bin_probs, bin_labels)"
   ]
  },
  {
   "cell_type": "code",
   "execution_count": 54,
   "metadata": {},
   "outputs": [
    {
     "data": {
      "text/plain": [
       "(<Figure size 432x288 with 1 Axes>,\n",
       " <matplotlib.axes._subplots.AxesSubplot at 0x7f215ef935c0>)"
      ]
     },
     "execution_count": 54,
     "metadata": {},
     "output_type": "execute_result"
    },
    {
     "data": {
      "image/png": "[encoded data removed]",
      "text/plain": [
       "<Figure size 432x288 with 1 Axes>"
      ]
     },
     "metadata": {
      "needs_background": "light"
     },
     "output_type": "display_data"
    }
   ],
   "source": [
    "bin_probs = [\n",
    "    [0, 0.1],\n",
    "    [0.2, 0.3],\n",
    "    [0.4, 0.5],\n",
    "    [0.6, 0.7, 0.8],\n",
    "    [0.9, 1]\n",
    "]\n",
    "\n",
    "bin_labels = [\n",
    "    [0, 0],\n",
    "    [0, 1], \n",
    "    [0, 1],\n",
    "    [1, 0, 1],\n",
    "    [1, 1]\n",
    "]\n",
    "\n",
    "plot_reliability_diagram_gaps_from_bins(bin_probs, bin_labels)"
   ]
  },
  {
   "cell_type": "code",
   "execution_count": null,
   "metadata": {},
   "outputs": [],
   "source": []
  }
 ],
 "metadata": {
  "kernelspec": {
   "display_name": "Python 3",
   "language": "python",
   "name": "python3"
  },
  "language_info": {
   "codemirror_mode": {
    "name": "ipython",
    "version": 3
   },
   "file_extension": ".py",
   "mimetype": "text/x-python",
   "name": "python",
   "nbconvert_exporter": "python",
   "pygments_lexer": "ipython3",
   "version": "3.7.3"
  }
 },
 "nbformat": 4,
 "nbformat_minor": 4
}
