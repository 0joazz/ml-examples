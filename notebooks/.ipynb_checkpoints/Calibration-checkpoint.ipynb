{
 "cells": [
  {
   "cell_type": "code",
   "execution_count": 127,
   "metadata": {},
   "outputs": [],
   "source": [
    "import pycalib\n",
    "import iteround\n",
    "import numpy as np\n",
    "import pandas as pd\n",
    "from scipy.stats import dirichlet"
   ]
  },
  {
   "cell_type": "code",
   "execution_count": 128,
   "metadata": {},
   "outputs": [],
   "source": [
    "def get_scores(alpha, size, random_state):\n",
    "    np.random.seed(random_state)\n",
    "    scores = dirichlet.rvs(alpha, size)\n",
    "    rounded_scores = np.array(\n",
    "        [iteround.saferound(s, 1) for s in scores]\n",
    "    )\n",
    "    return rounded_scores"
   ]
  },
  {
   "cell_type": "code",
   "execution_count": 129,
   "metadata": {},
   "outputs": [],
   "source": [
    "n_class = 10"
   ]
  },
  {
   "cell_type": "code",
   "execution_count": 130,
   "metadata": {},
   "outputs": [],
   "source": [
    "scores_1 = get_scores([5, 1, 1], n_class, 42)\n",
    "labels_1 = np.random.choice(3, size=(n_class, 1), p=[0.6, 0.2, 0.2])"
   ]
  },
  {
   "cell_type": "code",
   "execution_count": 131,
   "metadata": {},
   "outputs": [],
   "source": [
    "scores_2 = get_scores([1, 3, 2], n_class, 43)\n",
    "labels_2 = np.random.choice(3, size=(n_class, 1), p=[0.2, 0.5, 0.3])\n",
    "random_instance = np.random.choice(n_class)\n",
    "scores_2[random_instance] = np.around(np.ones(3) / 3, 2)\n",
    "labels_2[random_instance] = 0"
   ]
  },
  {
   "cell_type": "code",
   "execution_count": 132,
   "metadata": {},
   "outputs": [],
   "source": [
    "scores_3 = get_scores([1, 2, 3], n_class, 44)\n",
    "labels_3 = np.random.choice(3, size=(n_class, 1), p=[0.2, 0.3, 0.5])\n",
    "scores_3[random_instance] = np.around(np.ones(3) / 3, 2)\n",
    "labels_3[random_instance] = 0"
   ]
  },
  {
   "cell_type": "code",
   "execution_count": 133,
   "metadata": {},
   "outputs": [],
   "source": [
    "scores = np.vstack([scores_1, scores_2, scores_3])\n",
    "labels = np.vstack([labels_1, labels_2, labels_3]) + 1"
   ]
  },
  {
   "cell_type": "code",
   "execution_count": 134,
   "metadata": {},
   "outputs": [],
   "source": [
    "toy = pd.DataFrame(\n",
    "    np.hstack([scores, labels]),\n",
    "    columns=['$\\hat{p}_1$', '$\\hat{p}_2$', '$\\hat{p}_3$', '$y$']\n",
    ").astype(\n",
    "    {\n",
    "        '$\\hat{p}_1$': float,\n",
    "        '$\\hat{p}_2$': float,\n",
    "        '$\\hat{p}_3$': float,\n",
    "        '$y$': int\n",
    "    }\n",
    ")"
   ]
  },
  {
   "cell_type": "code",
   "execution_count": 176,
   "metadata": {},
   "outputs": [
    {
     "name": "stdout",
     "output_type": "stream",
     "text": [
      "\\begin{tabular}{lrrrr}\n",
      "\\toprule\n",
      "{} &  $\\hat{p}_1$ &  $\\hat{p}_2$ &  $\\hat{p}_3$ &  $y$ \\\\\n",
      "\\midrule\n",
      "1  &         1.00 &         0.00 &         0.00 &    1 \\\\\n",
      "2  &         0.90 &         0.10 &         0.00 &    1 \\\\\n",
      "3  &         0.80 &         0.10 &         0.10 &    1 \\\\\n",
      "4  &         0.70 &         0.10 &         0.20 &    1 \\\\\n",
      "5  &         0.60 &         0.30 &         0.10 &    1 \\\\\n",
      "6  &         0.40 &         0.10 &         0.50 &    1 \\\\\n",
      "7  &         0.33 &         0.33 &         0.33 &    1 \\\\\n",
      "8  &         0.33 &         0.33 &         0.33 &    1 \\\\\n",
      "9  &         0.20 &         0.40 &         0.40 &    1 \\\\\n",
      "10 &         0.10 &         0.50 &         0.40 &    1 \\\\\n",
      "\\bottomrule\n",
      "\\end{tabular}\n",
      " \\hfill\n",
      "\\begin{tabular}{lrrrr}\n",
      "\\toprule\n",
      "{} &  $\\hat{p}_1$ &  $\\hat{p}_2$ &  $\\hat{p}_3$ &  $y$ \\\\\n",
      "\\midrule\n",
      "11 &          0.8 &          0.2 &          0.0 &    2 \\\\\n",
      "12 &          0.7 &          0.0 &          0.3 &    2 \\\\\n",
      "13 &          0.5 &          0.2 &          0.3 &    2 \\\\\n",
      "14 &          0.4 &          0.4 &          0.2 &    2 \\\\\n",
      "15 &          0.4 &          0.2 &          0.4 &    2 \\\\\n",
      "16 &          0.3 &          0.4 &          0.3 &    2 \\\\\n",
      "17 &          0.2 &          0.3 &          0.5 &    2 \\\\\n",
      "18 &          0.1 &          0.6 &          0.3 &    2 \\\\\n",
      "19 &          0.1 &          0.3 &          0.6 &    2 \\\\\n",
      "20 &          0.0 &          0.2 &          0.8 &    2 \\\\\n",
      "\\bottomrule\n",
      "\\end{tabular}\n",
      " \\hfill\n",
      "\\begin{tabular}{lrrrr}\n",
      "\\toprule\n",
      "{} &  $\\hat{p}_1$ &  $\\hat{p}_2$ &  $\\hat{p}_3$ &  $y$ \\\\\n",
      "\\midrule\n",
      "21 &          0.8 &          0.2 &          0.0 &    3 \\\\\n",
      "22 &          0.8 &          0.1 &          0.1 &    3 \\\\\n",
      "23 &          0.8 &          0.0 &          0.2 &    3 \\\\\n",
      "24 &          0.6 &          0.0 &          0.4 &    3 \\\\\n",
      "25 &          0.3 &          0.0 &          0.7 &    3 \\\\\n",
      "26 &          0.2 &          0.6 &          0.2 &    3 \\\\\n",
      "27 &          0.2 &          0.4 &          0.4 &    3 \\\\\n",
      "28 &          0.0 &          0.4 &          0.6 &    3 \\\\\n",
      "29 &          0.0 &          0.3 &          0.7 &    3 \\\\\n",
      "30 &          0.0 &          0.3 &          0.7 &    3 \\\\\n",
      "\\bottomrule\n",
      "\\end{tabular}\n",
      " \\hfill\n"
     ]
    }
   ],
   "source": [
    "sorted_toy = toy.sort_values(\n",
    "    by=['$y$', '$\\hat{p}_1$', '$\\hat{p}_2$', '$\\hat{p}_3$'],\n",
    "    ascending=[True, False, False, False]\n",
    ")\n",
    "\n",
    "for i in range(3):\n",
    "    init = 10 * i\n",
    "    end = 10 * (i + 1)\n",
    "    print(\n",
    "        sorted_toy.iloc[init:end].set_index(\n",
    "            np.arange(init + 1, end + 1)\n",
    "        ).to_latex(escape=False), \n",
    "        '\\hfill'\n",
    "    )"
   ]
  },
  {
   "cell_type": "code",
   "execution_count": 175,
   "metadata": {},
   "outputs": [
    {
     "name": "stdout",
     "output_type": "stream",
     "text": [
      "\\begin{tabular}{lrrr}\n",
      "\\toprule\n",
      "{} &  $\\hat{p}_1$ &  $\\hat{p}_0$ &  $y$ \\\\\n",
      "\\midrule\n",
      "1  &         1.00 &         0.00 &    1 \\\\\n",
      "2  &         0.90 &         0.10 &    1 \\\\\n",
      "3  &         0.80 &         0.20 &    1 \\\\\n",
      "4  &         0.70 &         0.30 &    1 \\\\\n",
      "5  &         0.60 &         0.40 &    1 \\\\\n",
      "6  &         0.40 &         0.60 &    1 \\\\\n",
      "7  &         0.33 &         0.66 &    1 \\\\\n",
      "8  &         0.33 &         0.66 &    1 \\\\\n",
      "9  &         0.20 &         0.80 &    1 \\\\\n",
      "10 &         0.10 &         0.90 &    1 \\\\\n",
      "\\bottomrule\n",
      "\\end{tabular}\n",
      " \\hfill\n",
      "\\begin{tabular}{lrrr}\n",
      "\\toprule\n",
      "{} &  $\\hat{p}_1$ &  $\\hat{p}_0$ &  $y$ \\\\\n",
      "\\midrule\n",
      "11 &          0.8 &          0.2 &    0 \\\\\n",
      "12 &          0.7 &          0.3 &    0 \\\\\n",
      "13 &          0.5 &          0.5 &    0 \\\\\n",
      "14 &          0.4 &          0.6 &    0 \\\\\n",
      "15 &          0.4 &          0.6 &    0 \\\\\n",
      "16 &          0.3 &          0.7 &    0 \\\\\n",
      "17 &          0.2 &          0.8 &    0 \\\\\n",
      "18 &          0.1 &          0.9 &    0 \\\\\n",
      "19 &          0.1 &          0.9 &    0 \\\\\n",
      "20 &          0.0 &          1.0 &    0 \\\\\n",
      "\\bottomrule\n",
      "\\end{tabular}\n",
      " \\hfill\n",
      "\\begin{tabular}{lrrr}\n",
      "\\toprule\n",
      "{} &  $\\hat{p}_1$ &  $\\hat{p}_0$ &  $y$ \\\\\n",
      "\\midrule\n",
      "21 &          0.8 &          0.2 &    0 \\\\\n",
      "22 &          0.8 &          0.2 &    0 \\\\\n",
      "23 &          0.8 &          0.2 &    0 \\\\\n",
      "24 &          0.6 &          0.4 &    0 \\\\\n",
      "25 &          0.3 &          0.7 &    0 \\\\\n",
      "26 &          0.2 &          0.8 &    0 \\\\\n",
      "27 &          0.2 &          0.8 &    0 \\\\\n",
      "28 &          0.0 &          1.0 &    0 \\\\\n",
      "29 &          0.0 &          1.0 &    0 \\\\\n",
      "30 &          0.0 &          1.0 &    0 \\\\\n",
      "\\bottomrule\n",
      "\\end{tabular}\n",
      " \\hfill\n"
     ]
    }
   ],
   "source": [
    "for i in range(3):\n",
    "    init = 10 * i\n",
    "    end = 10 * (i + 1)\n",
    "    temp_toy = sorted_toy.iloc[init:end].set_index(np.arange(init + 1, end + 1))\n",
    "    temp_toy['$y$'] = (temp_toy['$y$'] == 1).astype(int)\n",
    "    temp_toy['$\\hat{p}_0$'] = temp_toy['$\\hat{p}_2$'] + temp_toy['$\\hat{p}_3$']\n",
    "    print(\n",
    "        temp_toy.to_latex(\n",
    "            escape=False,\n",
    "            columns=['$\\hat{p}_1$', '$\\hat{p}_0$', '$y$']\n",
    "        ), \n",
    "        '\\hfill'\n",
    "    )"
   ]
  },
  {
   "cell_type": "code",
   "execution_count": 256,
   "metadata": {},
   "outputs": [],
   "source": [
    "def get_bins(df, pos_label, n_bins, bin_edges=None):\n",
    "    positive_scores = df[f'$\\hat{{p}}_{pos_label}$'].values\n",
    "    positive_labels = (df['$y$'] == pos_label).astype(int).values\n",
    "\n",
    "    if bin_edges is None:\n",
    "        (counts, bin_edges) = np.histogram(\n",
    "            positive_scores, \n",
    "            bins=n_bins\n",
    "        )\n",
    "\n",
    "    bin_idx = np.clip(\n",
    "        np.digitize(positive_scores, bin_edges), \n",
    "        0, n_bins\n",
    "    ) - 1\n",
    "\n",
    "    bins_scores, bins_labels = [], []\n",
    "\n",
    "    for b in range(n_bins):\n",
    "        bins_scores.append(sorted(positive_scores[bin_idx == b]))\n",
    "        bins_labels.append(sorted(positive_labels[bin_idx == b]))\n",
    "\n",
    "    bins_df = pd.DataFrame(\n",
    "        {\n",
    "            '$B_i$': [f'$B_{i + 1}$' for i in range(n_bins)],\n",
    "            '$|B_{i}|$': [\n",
    "                len(bs) for bs in bins_scores\n",
    "            ],\n",
    "            'scores': bins_scores,\n",
    "            '$\\Bar{p}(B_{i})$': [\n",
    "                '{}/{}'.format(np.around(np.sum(bs), 1), len(bs)) for bs in bins_scores\n",
    "            ],\n",
    "            '$\\Bar{p}(B_{i}2)$': [\n",
    "                np.around(np.mean(bs), 2) for bs in bins_scores\n",
    "            ],\n",
    "            'labels': bins_labels,\n",
    "            '$\\Bar{y}(B_{i})$': [\n",
    "                '{}/{}'.format(np.around(np.sum(bl), 1), len(bl)) for bl in bins_labels\n",
    "            ],\n",
    "            '$\\Bar{y}(B_{i}2)$': [\n",
    "                np.around(np.mean(bl), 2) for bl in bins_labels\n",
    "            ]\n",
    "        }\n",
    "    )\n",
    "        \n",
    "    print(\n",
    "        bins_df.drop(['$\\Bar{p}(B_{i}2)$', '$\\Bar{y}(B_{i}2)$'], axis=1).to_latex(\n",
    "            escape=False, \n",
    "            index=False\n",
    "        ).replace('[', '').replace(']', '').replace('0.33', '1/3')\n",
    "    )\n",
    "    return bins_df"
   ]
  },
  {
   "cell_type": "code",
   "execution_count": 257,
   "metadata": {},
   "outputs": [
    {
     "name": "stdout",
     "output_type": "stream",
     "text": [
      "\\begin{tabular}{lrllll}\n",
      "\\toprule\n",
      " $B_i$ &  $|B_{i}|$ &                                      scores & $\\Bar{p}(B_{i})$ &                    labels & $\\Bar{y}(B_{i})$ \\\\\n",
      "\\midrule\n",
      " $B_1$ &          7 &         0.0, 0.0, 0.0, 0.0, 0.1, 0.1, 0.1 &            0.3/7 &     0, 0, 0, 0, 0, 0, 1 &              1/7 \\\\\n",
      " $B_2$ &          8 &  0.2, 0.2, 0.2, 0.2, 0.3, 0.3, 1/3, 1/3 &            2.1/8 &  0, 0, 0, 0, 0, 1, 1, 1 &              3/8 \\\\\n",
      " $B_3$ &          6 &              0.4, 0.4, 0.4, 0.5, 0.6, 0.6 &            2.9/6 &        0, 0, 0, 0, 1, 1 &              2/6 \\\\\n",
      " $B_4$ &          2 &                                  0.7, 0.7 &            1.4/2 &                    0, 1 &              1/2 \\\\\n",
      " $B_5$ &          7 &         0.8, 0.8, 0.8, 0.8, 0.8, 0.9, 1.0 &            5.9/7 &     0, 0, 0, 0, 1, 1, 1 &              3/7 \\\\\n",
      "\\bottomrule\n",
      "\\end{tabular}\n",
      "\n"
     ]
    }
   ],
   "source": [
    "n_bins = 5\n",
    "bins_positive = get_bins(sorted_toy, 1, n_bins)"
   ]
  },
  {
   "cell_type": "code",
   "execution_count": 201,
   "metadata": {},
   "outputs": [
    {
     "name": "stdout",
     "output_type": "stream",
     "text": [
      "\\begin{tabular}{lrrr}\n",
      "\\toprule\n",
      " $B_i$ &  $\\Bar{p}(B_{i})$ &  $\\Bar{y}(B_{i})$ &  $|B_{i}|$ \\\\\n",
      "\\midrule\n",
      " $B_1$ &               0.04 &               0.14 &          7 \\\\\n",
      " $B_2$ &               0.26 &               0.38 &          8 \\\\\n",
      " $B_3$ &               0.48 &               0.33 &          6 \\\\\n",
      " $B_4$ &               0.70 &               0.50 &          2 \\\\\n",
      " $B_5$ &               0.84 &               0.43 &          7 \\\\\n",
      "\\bottomrule\n",
      "\\end{tabular}\n",
      "\n"
     ]
    }
   ],
   "source": [
    "print(\n",
    "    bins_positive.to_latex(\n",
    "        columns=['$B_i$', '$\\Bar{p}(B_{i}2)$', '$\\Bar{y}(B_{i}2)$', '$|B_{i}|$'],\n",
    "        escape=False, \n",
    "        index=False\n",
    "    ).replace('{i}2', '{i}')\n",
    ")"
   ]
  },
  {
   "cell_type": "code",
   "execution_count": 217,
   "metadata": {},
   "outputs": [],
   "source": [
    "def calculate_binary_ece(bins):\n",
    "    abs_diff = (bins['$\\Bar{y}(B_{i}2)$'] - bins['$\\Bar{p}(B_{i}2)$']).abs()\n",
    "    mul = abs_diff * bins['$|B_{i}|$']\n",
    "    numerator = ' + '.join(\n",
    "        [\n",
    "            '{} \\cdot {}'.format(b, np.around(ad, 2)) for (b, ad) in zip(\n",
    "                bins['$|B_{i}|$'], abs_diff\n",
    "            )\n",
    "        ]\n",
    "    )\n",
    "    \n",
    "    return np.around(mul.sum() / bins['$|B_{i}|$'].sum(), 4), numerator"
   ]
  },
  {
   "cell_type": "code",
   "execution_count": 218,
   "metadata": {},
   "outputs": [
    {
     "name": "stdout",
     "output_type": "stream",
     "text": [
      "(0.1943, '7 \\\\cdot 0.1 + 8 \\\\cdot 0.12 + 6 \\\\cdot 0.15 + 2 \\\\cdot 0.2 + 7 \\\\cdot 0.41')\n"
     ]
    }
   ],
   "source": [
    "print(calculate_binary_ece(bins_positive))"
   ]
  },
  {
   "cell_type": "code",
   "execution_count": 247,
   "metadata": {},
   "outputs": [],
   "source": [
    "def get_confidence_df(df):\n",
    "    conf_values = df.drop('$y$', axis=1).set_index(\n",
    "        np.arange(1, 31)\n",
    "    ).max(axis=1)\n",
    "    \n",
    "    conf_columns = df.drop('$y$', axis=1).set_index(\n",
    "        np.arange(1, 31)\n",
    "    ).idxmax(axis=1).values\n",
    "    \n",
    "    predictions = np.array([int(col[-2]) for col in conf_columns])\n",
    "    correct = (df['$y$'].values == predictions).astype(int)\n",
    "    \n",
    "    return pd.DataFrame(\n",
    "        {\n",
    "            '$\\hat{p}_1$': conf_values,\n",
    "            '$y$': correct\n",
    "        }\n",
    "    )"
   ]
  },
  {
   "cell_type": "code",
   "execution_count": 248,
   "metadata": {},
   "outputs": [],
   "source": [
    "conf_df = get_confidence_df(sorted_toy)"
   ]
  },
  {
   "cell_type": "code",
   "execution_count": 249,
   "metadata": {},
   "outputs": [
    {
     "name": "stdout",
     "output_type": "stream",
     "text": [
      "\\begin{tabular}{rr}\n",
      "\\toprule\n",
      "confidence & correct \\\\\n",
      "\\midrule\n",
      "      1.00 &       1 \\\\\n",
      "      0.90 &       1 \\\\\n",
      "      0.80 &       1 \\\\\n",
      "      0.70 &       1 \\\\\n",
      "      0.60 &       1 \\\\\n",
      "      0.50 &       0 \\\\\n",
      "      0.33 &       1 \\\\\n",
      "      0.33 &       1 \\\\\n",
      "      0.40 &       0 \\\\\n",
      "      0.50 &       0 \\\\\n",
      "\\bottomrule\n",
      "\\end{tabular}\n",
      " \\hfill\n",
      "\\begin{tabular}{rr}\n",
      "\\toprule\n",
      "confidence & correct \\\\\n",
      "\\midrule\n",
      "       0.8 &       0 \\\\\n",
      "       0.7 &       0 \\\\\n",
      "       0.5 &       0 \\\\\n",
      "       0.4 &       0 \\\\\n",
      "       0.4 &       0 \\\\\n",
      "       0.4 &       1 \\\\\n",
      "       0.5 &       0 \\\\\n",
      "       0.6 &       1 \\\\\n",
      "       0.6 &       0 \\\\\n",
      "       0.8 &       0 \\\\\n",
      "\\bottomrule\n",
      "\\end{tabular}\n",
      " \\hfill\n",
      "\\begin{tabular}{rr}\n",
      "\\toprule\n",
      "confidence & correct \\\\\n",
      "\\midrule\n",
      "       0.8 &       0 \\\\\n",
      "       0.8 &       0 \\\\\n",
      "       0.8 &       0 \\\\\n",
      "       0.6 &       0 \\\\\n",
      "       0.7 &       1 \\\\\n",
      "       0.6 &       0 \\\\\n",
      "       0.4 &       0 \\\\\n",
      "       0.6 &       1 \\\\\n",
      "       0.7 &       1 \\\\\n",
      "       0.7 &       1 \\\\\n",
      "\\bottomrule\n",
      "\\end{tabular}\n",
      " \\hfill\n"
     ]
    }
   ],
   "source": [
    "for i in range(3):\n",
    "    init = 10 * i\n",
    "    end = 10 * (i + 1)\n",
    "    print(\n",
    "        conf_df.iloc[init:end].set_index(\n",
    "            np.arange(init + 1, end + 1)\n",
    "        ).to_latex(header=['confidence', 'correct'], index=False, escape=False), \n",
    "        '\\hfill'\n",
    "    )"
   ]
  },
  {
   "cell_type": "code",
   "execution_count": 258,
   "metadata": {},
   "outputs": [
    {
     "name": "stdout",
     "output_type": "stream",
     "text": [
      "\\begin{tabular}{lrllll}\n",
      "\\toprule\n",
      " $B_i$ &  $|B_{i}|$ &                                             scores & $\\Bar{p}(B_{i})$ &                                         labels & $\\Bar{y}(B_{i})$ \\\\\n",
      "\\midrule\n",
      " $B_1$ &          0 &                                                  &            0.0/0 &                                              &            0.0/0 \\\\\n",
      " $B_2$ &          2 &                                       1/3, 1/3 &            0.7/2 &                                         1, 1 &              2/2 \\\\\n",
      " $B_3$ &         15 &  0.4, 0.4, 0.4, 0.4, 0.4, 0.5, 0.5, 0.5, 0.5, ... &           7.6/15 &  0, 0, 0, 0, 0, 0, 0, 0, 0, 0, 0, 1, 1, 1, 1 &             4/15 \\\\\n",
      " $B_4$ &          5 &                          0.7, 0.7, 0.7, 0.7, 0.7 &            3.5/5 &                                0, 1, 1, 1, 1 &              4/5 \\\\\n",
      " $B_5$ &          8 &           0.8, 0.8, 0.8, 0.8, 0.8, 0.8, 0.9, 1.0 &            6.7/8 &                       0, 0, 0, 0, 0, 1, 1, 1 &              3/8 \\\\\n",
      "\\bottomrule\n",
      "\\end{tabular}\n",
      "\n"
     ]
    },
    {
     "name": "stderr",
     "output_type": "stream",
     "text": [
      "/home/tmfilho/anaconda2/envs/py37/lib/python3.7/site-packages/numpy/core/fromnumeric.py:3118: RuntimeWarning: Mean of empty slice.\n",
      "  out=out, **kwargs)\n",
      "/home/tmfilho/anaconda2/envs/py37/lib/python3.7/site-packages/numpy/core/_methods.py:85: RuntimeWarning: invalid value encountered in double_scalars\n",
      "  ret = ret.dtype.type(ret / rcount)\n"
     ]
    }
   ],
   "source": [
    "bins_conf = get_bins(\n",
    "    conf_df, 1, n_bins, bin_edges=np.linspace(0, 1, 6)\n",
    ")"
   ]
  },
  {
   "cell_type": "code",
   "execution_count": 259,
   "metadata": {},
   "outputs": [
    {
     "name": "stdout",
     "output_type": "stream",
     "text": [
      "\\begin{tabular}{lrrr}\n",
      "\\toprule\n",
      " $B_i$ &  $\\Bar{p}(B_{i})$ &  $\\Bar{y}(B_{i})$ &  $|B_{i}|$ \\\\\n",
      "\\midrule\n",
      " $B_1$ &                NaN &                NaN &          0 \\\\\n",
      " $B_2$ &               0.33 &               1.00 &          2 \\\\\n",
      " $B_3$ &               0.51 &               0.27 &         15 \\\\\n",
      " $B_4$ &               0.70 &               0.80 &          5 \\\\\n",
      " $B_5$ &               0.84 &               0.38 &          8 \\\\\n",
      "\\bottomrule\n",
      "\\end{tabular}\n",
      "\n"
     ]
    }
   ],
   "source": [
    "print(\n",
    "    bins_conf.to_latex(\n",
    "        columns=['$B_i$', '$\\Bar{p}(B_{i}2)$', '$\\Bar{y}(B_{i}2)$', '$|B_{i}|$'],\n",
    "        escape=False, \n",
    "        index=False\n",
    "    ).replace('{i}2', '{i}')\n",
    ")"
   ]
  },
  {
   "cell_type": "code",
   "execution_count": 260,
   "metadata": {},
   "outputs": [
    {
     "name": "stdout",
     "output_type": "stream",
     "text": [
      "(0.304, '0 \\\\cdot nan + 2 \\\\cdot 0.67 + 15 \\\\cdot 0.24 + 5 \\\\cdot 0.1 + 8 \\\\cdot 0.46')\n"
     ]
    }
   ],
   "source": [
    "print(calculate_binary_ece(bins_conf))"
   ]
  },
  {
   "cell_type": "code",
   "execution_count": 261,
   "metadata": {},
   "outputs": [
    {
     "name": "stdout",
     "output_type": "stream",
     "text": [
      "\\begin{tabular}{lrllll}\n",
      "\\toprule\n",
      " $B_i$ &  $|B_{i}|$ &                                             scores & $\\Bar{p}(B_{i})$ &                          labels & $\\Bar{y}(B_{i})$ \\\\\n",
      "\\midrule\n",
      " $B_1$ &         10 &  0.0, 0.0, 0.0, 0.0, 0.0, 0.1, 0.1, 0.1, 0.1, ... &           0.5/10 &  0, 0, 0, 0, 0, 0, 0, 0, 0, 1 &             1/10 \\\\\n",
      " $B_2$ &          5 &                          0.2, 0.2, 0.2, 0.2, 0.2 &            1.0/5 &                 0, 1, 1, 1, 1 &              4/5 \\\\\n",
      " $B_3$ &          7 &              0.3, 0.3, 0.3, 0.3, 0.3, 1/3, 1/3 &            2.2/7 &           0, 0, 0, 0, 0, 1, 1 &              2/7 \\\\\n",
      " $B_4$ &          5 &                          0.4, 0.4, 0.4, 0.4, 0.4 &            2.0/5 &                 0, 0, 0, 1, 1 &              2/5 \\\\\n",
      " $B_5$ &          3 &                                    0.5, 0.6, 0.6 &            1.7/3 &                       0, 0, 1 &              1/3 \\\\\n",
      "\\bottomrule\n",
      "\\end{tabular}\n",
      "\n"
     ]
    }
   ],
   "source": [
    "bins_class_2 = get_bins(sorted_toy, 2, n_bins)"
   ]
  },
  {
   "cell_type": "code",
   "execution_count": 262,
   "metadata": {},
   "outputs": [
    {
     "name": "stdout",
     "output_type": "stream",
     "text": [
      "\\begin{tabular}{lrllll}\n",
      "\\toprule\n",
      " $B_i$ &  $|B_{i}|$ &                                    scores & $\\Bar{p}(B_{i})$ &                    labels & $\\Bar{y}(B_{i})$ \\\\\n",
      "\\midrule\n",
      " $B_1$ &          7 &       0.0, 0.0, 0.0, 0.0, 0.1, 0.1, 0.1 &            0.3/7 &     0, 0, 0, 0, 0, 1, 1 &              2/7 \\\\\n",
      " $B_2$ &          8 &  0.2, 0.2, 0.2, 0.2, 0.3, 0.3, 0.3, 0.3 &            2.0/8 &  0, 0, 0, 0, 0, 0, 1, 1 &              2/8 \\\\\n",
      " $B_3$ &          7 &     1/3, 1/3, 0.4, 0.4, 0.4, 0.4, 0.4 &            2.7/7 &     0, 0, 0, 0, 0, 1, 1 &              2/7 \\\\\n",
      " $B_4$ &          4 &                      0.5, 0.5, 0.6, 0.6 &            2.2/4 &              0, 0, 0, 1 &              1/4 \\\\\n",
      " $B_5$ &          4 &                      0.7, 0.7, 0.7, 0.8 &            2.9/4 &              0, 1, 1, 1 &              3/4 \\\\\n",
      "\\bottomrule\n",
      "\\end{tabular}\n",
      "\n"
     ]
    }
   ],
   "source": [
    "bins_class_3 = get_bins(sorted_toy, 3, n_bins)"
   ]
  },
  {
   "cell_type": "code",
   "execution_count": 263,
   "metadata": {},
   "outputs": [
    {
     "name": "stdout",
     "output_type": "stream",
     "text": [
      "(0.1453, '10 \\\\cdot 0.05 + 5 \\\\cdot 0.6 + 7 \\\\cdot 0.02 + 5 \\\\cdot 0.0 + 3 \\\\cdot 0.24')\n"
     ]
    }
   ],
   "source": [
    "print(calculate_binary_ece(bins_class_2))"
   ]
  },
  {
   "cell_type": "code",
   "execution_count": 264,
   "metadata": {},
   "outputs": [
    {
     "name": "stdout",
     "output_type": "stream",
     "text": [
      "(0.1233, '7 \\\\cdot 0.25 + 8 \\\\cdot 0.0 + 7 \\\\cdot 0.09 + 4 \\\\cdot 0.3 + 4 \\\\cdot 0.03')\n"
     ]
    }
   ],
   "source": [
    "print(calculate_binary_ece(bins_class_3))"
   ]
  },
  {
   "cell_type": "code",
   "execution_count": 265,
   "metadata": {},
   "outputs": [
    {
     "data": {
      "text/plain": [
       "0.15430000000000002"
      ]
     },
     "execution_count": 265,
     "metadata": {},
     "output_type": "execute_result"
    }
   ],
   "source": [
    "np.mean([0.1943, 0.1453, 0.1233])"
   ]
  },
  {
   "cell_type": "code",
   "execution_count": null,
   "metadata": {},
   "outputs": [],
   "source": []
  }
 ],
 "metadata": {
  "kernelspec": {
   "display_name": "Python 3",
   "language": "python",
   "name": "python3"
  },
  "language_info": {
   "codemirror_mode": {
    "name": "ipython",
    "version": 3
   },
   "file_extension": ".py",
   "mimetype": "text/x-python",
   "name": "python",
   "nbconvert_exporter": "python",
   "pygments_lexer": "ipython3",
   "version": "3.7.3"
  }
 },
 "nbformat": 4,
 "nbformat_minor": 4
}
